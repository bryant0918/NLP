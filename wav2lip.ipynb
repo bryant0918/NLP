{
 "cells": [
  {
   "cell_type": "markdown",
   "metadata": {
    "id": "fkoF-mm8CGfB"
   },
   "source": [
    "# Wav2Lip-HQ inference\n",
    "\n",
    "This notebook is a tutorial describing how to run Wav2Lip-HQ model for lip-sync of high quality videos. You can find more details in [the GitHub repository](https://github.com/Markfryazino/wav2lip-hq).\n",
    "\n"
   ]
  },
  {
   "cell_type": "markdown",
   "metadata": {
    "id": "5uJWURePONLd"
   },
   "source": [
    "## At first, clone the repository and load all required models."
   ]
  },
  {
   "cell_type": "code",
   "execution_count": 1,
   "metadata": {
    "id": "Lb6Q78lTNeSj"
   },
   "outputs": [
    {
     "name": "stdout",
     "output_type": "stream",
     "text": [
      "[WinError 2] The system cannot find the file specified: 'wav2lip-hq'\n",
      "C:\\Users\\bryan\\Documents\\Winter 2022\\Ling 581\n"
     ]
    },
    {
     "name": "stderr",
     "output_type": "stream",
     "text": [
      "'git' is not recognized as an internal or external command,\n",
      "operable program or batch file.\n"
     ]
    },
    {
     "name": "stdout",
     "output_type": "stream",
     "text": [
      "Collecting gdown\n",
      "  Downloading gdown-4.4.0.tar.gz (14 kB)\n",
      "  Installing build dependencies: started\n",
      "  Installing build dependencies: finished with status 'done'\n",
      "  Getting requirements to build wheel: started\n",
      "  Getting requirements to build wheel: finished with status 'done'\n",
      "  Preparing metadata (pyproject.toml): started\n",
      "  Preparing metadata (pyproject.toml): finished with status 'done'\n",
      "Requirement already satisfied: six in c:\\users\\bryan\\anaconda3\\lib\\site-packages (from gdown) (1.15.0)\n",
      "Requirement already satisfied: beautifulsoup4 in c:\\users\\bryan\\anaconda3\\lib\\site-packages (from gdown) (4.8.2)\n",
      "Requirement already satisfied: filelock in c:\\users\\bryan\\anaconda3\\lib\\site-packages (from gdown) (3.4.2)\n",
      "Requirement already satisfied: requests[socks] in c:\\users\\bryan\\anaconda3\\lib\\site-packages (from gdown) (2.27.1)\n",
      "Requirement already satisfied: tqdm in c:\\users\\bryan\\anaconda3\\lib\\site-packages (from gdown) (4.62.3)\n",
      "Requirement already satisfied: soupsieve>=1.2 in c:\\users\\bryan\\anaconda3\\lib\\site-packages (from beautifulsoup4->gdown) (2.2.1)\n",
      "Requirement already satisfied: urllib3<1.27,>=1.21.1 in c:\\users\\bryan\\anaconda3\\lib\\site-packages (from requests[socks]->gdown) (1.26.4)\n",
      "Requirement already satisfied: certifi>=2017.4.17 in c:\\users\\bryan\\anaconda3\\lib\\site-packages (from requests[socks]->gdown) (2020.12.5)\n",
      "Requirement already satisfied: charset-normalizer~=2.0.0 in c:\\users\\bryan\\anaconda3\\lib\\site-packages (from requests[socks]->gdown) (2.0.11)\n",
      "Requirement already satisfied: idna<4,>=2.5 in c:\\users\\bryan\\anaconda3\\lib\\site-packages (from requests[socks]->gdown) (2.10)\n",
      "Requirement already satisfied: PySocks!=1.5.7,>=1.5.6 in c:\\users\\bryan\\anaconda3\\lib\\site-packages (from requests[socks]->gdown) (1.7.1)\n",
      "Requirement already satisfied: colorama in c:\\users\\bryan\\anaconda3\\lib\\site-packages (from tqdm->gdown) (0.4.4)\n",
      "Building wheels for collected packages: gdown\n",
      "  Building wheel for gdown (pyproject.toml): started\n",
      "  Building wheel for gdown (pyproject.toml): finished with status 'done'\n",
      "  Created wheel for gdown: filename=gdown-4.4.0-py3-none-any.whl size=14759 sha256=26af7303ef02513eb7f0c74c77ed4e7ed5f149aad5778f4e1e6c0f4343545101\n",
      "  Stored in directory: c:\\users\\bryan\\appdata\\local\\pip\\cache\\wheels\\7b\\7b\\5d\\656f46cd6889e4c93977be9586901d0adc1271b2d876c84c96\n",
      "Successfully built gdown\n",
      "Installing collected packages: gdown\n",
      "Successfully installed gdown-4.4.0\n"
     ]
    },
    {
     "name": "stderr",
     "output_type": "stream",
     "text": [
      "ERROR: Could not open requirements file: [Errno 2] No such file or directory: 'requirements.txt'\n",
      "'wget' is not recognized as an internal or external command,\n",
      "operable program or batch file.\n"
     ]
    }
   ],
   "source": [
    "!git clone https://github.com/Markfryazino/wav2lip-hq.git\n",
    "%cd wav2lip-hq\n",
    "!pip3 install gdown\n",
    "!pip3 install -r requirements.txt\n",
    "\n",
    "!wget \"https://www.adrianbulat.com/downloads/python-fan/s3fd-619a316812.pth\" -O \"face_detection/detection/sfd/s3fd.pth\""
   ]
  },
  {
   "cell_type": "markdown",
   "metadata": {
    "id": "6poZlHOFw9-F"
   },
   "source": [
    "Now you need to install three model files and two video files.\n",
    "\n",
    "Either:\n",
    "- Upload them into your Colab session from the class shared partition from the directory called lab18. (Only recommended if you don't have access to Google Drive).\n",
    "\n",
    "Or:\n",
    "\n",
    "- If you have a Google drive, mount it and copy the 5 files to your Google drive and then into your Colab session.\n",
    "\n",
    "Then make sure you copy the two .mp4 files into the wav2lip-hq/videos directory, and the three .pth files into the wav2lip-hq/checkpoints directory."
   ]
  },
  {
   "cell_type": "code",
   "execution_count": null,
   "metadata": {
    "id": "VE-QQtHRsbRg"
   },
   "outputs": [],
   "source": [
    "# Uncomment and run this cell if you have access to Google Drive and want to use it\n",
    "\n",
    "#from google.colab import drive\n",
    "#drive.mount('/content/drive')"
   ]
  },
  {
   "cell_type": "markdown",
   "metadata": {
    "id": "U9WRj2KBVojD"
   },
   "source": [
    "## Finally, run the model!\n"
   ]
  },
  {
   "cell_type": "code",
   "execution_count": null,
   "metadata": {
    "id": "upzbvGOmVnJT"
   },
   "outputs": [],
   "source": [
    "!python inference.py \\\n",
    "        --checkpoint_path \"checkpoints/wav2lip_gan.pth\" \\\n",
    "        --segmentation_path \"checkpoints/face_segmentation.pth\" \\\n",
    "        --sr_path \"checkpoints/esrgan_max.pth\" \\\n",
    "        --face \"videos/yunying_30s_start3.mp4\" \\\n",
    "        --audio \"videos/shulman_30s_start5.mp4\" \\\n",
    "        --outfile \"results/shulman_to_yunying.mp4\""
   ]
  },
  {
   "cell_type": "markdown",
   "metadata": {
    "id": "dr0VP7iYyYID"
   },
   "source": [
    "The deepfake will be in a video file in the wav2lip-hq/results directory."
   ]
  }
 ],
 "metadata": {
  "accelerator": "GPU",
  "colab": {
   "collapsed_sections": [],
   "name": "Lab18Wav2Lip_HQ_inference.ipynb",
   "provenance": []
  },
  "kernelspec": {
   "display_name": "Python 3",
   "language": "python",
   "name": "python3"
  },
  "language_info": {
   "codemirror_mode": {
    "name": "ipython",
    "version": 3
   },
   "file_extension": ".py",
   "mimetype": "text/x-python",
   "name": "python",
   "nbconvert_exporter": "python",
   "pygments_lexer": "ipython3",
   "version": "3.8.8"
  }
 },
 "nbformat": 4,
 "nbformat_minor": 1
}
